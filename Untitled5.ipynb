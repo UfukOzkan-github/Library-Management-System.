{
  "nbformat": 4,
  "nbformat_minor": 0,
  "metadata": {
    "colab": {
      "provenance": [],
      "authorship_tag": "ABX9TyNewbcCxxUuGYk0cI+/RXAM",
      "include_colab_link": true
    },
    "kernelspec": {
      "name": "python3",
      "display_name": "Python 3"
    },
    "language_info": {
      "name": "python"
    }
  },
  "cells": [
    {
      "cell_type": "markdown",
      "metadata": {
        "id": "view-in-github",
        "colab_type": "text"
      },
      "source": [
        "<a href=\"https://colab.research.google.com/github/UfukOzkan-github/Library-Management-System./blob/main/Untitled5.ipynb\" target=\"_parent\"><img src=\"https://colab.research.google.com/assets/colab-badge.svg\" alt=\"Open In Colab\"/></a>"
      ]
    },
    {
      "cell_type": "code",
      "execution_count": null,
      "metadata": {
        "colab": {
          "base_uri": "https://localhost:8080/"
        },
        "id": "9MZ35lJjDsdf",
        "outputId": "ff89b849-ddf4-4635-d3fd-ba6b849bc34f"
      },
      "outputs": [
        {
          "output_type": "stream",
          "name": "stdout",
          "text": [
            "\n",
            "*** MENU ***\n",
            "1) List Books\n",
            "2) Add Book\n",
            "3) Remove Book\n",
            "Enter your choice : 1\n",
            "  Book Name                 Author               Release Date         Number of Page\n",
            "The Call of the Wild ,     Jack London ,         1903 ,                274\n",
            "Improbable ,               Adam Fawer ,          2005 ,                472\n",
            "\n",
            "*** MENU ***\n",
            "1) List Books\n",
            "2) Add Book\n",
            "3) Remove Book\n"
          ]
        }
      ],
      "source": [
        "class Library:\n",
        "    def __init__(self):\n",
        "        self.filename = \"books.txt\"\n",
        "\n",
        "    def list_books(self):\n",
        "        with open(self.filename, \"r\") as file:\n",
        "            lines = file.read().splitlines()\n",
        "            print(\"  Book Name\", end=\"\")\n",
        "            for _ in range(25 - len(\" Book Name\")):\n",
        "                print(\" \", end=\"\")\n",
        "            print(\"  Author\", end=\"\")\n",
        "            for _ in range(20 - len(\" Author\")):\n",
        "                print(\" \", end=\"\")\n",
        "            print(\"  Release Date\", end=\"\")\n",
        "            for _ in range(20 - len(\" Release Date\")):\n",
        "                print(\" \", end=\"\")\n",
        "            print(\"  Number of Page\")\n",
        "\n",
        "        for line in lines:\n",
        "            book_data = line.split(',')\n",
        "            print(book_data[0],\",\", end=\"\")\n",
        "            for _ in range(25 - len(book_data[0])):\n",
        "                print(\" \", end=\"\")\n",
        "            print(book_data[1],\",\", end=\"\")\n",
        "            for _ in range(20 - len(book_data[1])):\n",
        "                print(\" \", end=\"\")\n",
        "            print(book_data[2],\",\", end=\"\")\n",
        "            for _ in range(20 - len(book_data[2])):\n",
        "                print(\" \", end=\"\")\n",
        "            print( book_data [3])\n",
        "\n",
        "\n",
        "    def add_book(self):\n",
        "        name = input(\"Enter book name: \")\n",
        "        author = input(\"Enter author: \")\n",
        "        date = input(\"Enter release date: \")\n",
        "        pages = int(input(\"Enter number of pages: \"))\n",
        "        with open(self.filename, \"a\") as file:\n",
        "            file.write(f\"{name},{author},{date},{pages}\\n\")\n",
        "        print(\"Book added successfully!!!\")\n",
        "\n",
        "    def remove_book(self):\n",
        "        name = input(\"Enter the name of the book you want to remove: \")\n",
        "        updated_books = []\n",
        "        with open(self.filename, \"r\") as file:\n",
        "            lines = file.readlines()\n",
        "            for line in lines:\n",
        "                if not line.startswith(name):\n",
        "                    updated_books.append(line)\n",
        "        with open(self.filename, \"w\") as file:\n",
        "            for book in updated_books:\n",
        "                file.write(book)\n",
        "        print(\"Book removed successfully!!!\")\n",
        "\n",
        "def main():\n",
        "    lib = Library()\n",
        "    while True:\n",
        "        print(\"\\n*** MENU ***\")\n",
        "        print(\"1) List Books\")\n",
        "        print(\"2) Add Book\")\n",
        "        print(\"3) Remove Book\")\n",
        "        choice = input(\"Enter your choice : \")\n",
        "\n",
        "        if choice == '1':\n",
        "            lib.list_books()\n",
        "        elif choice == '2':\n",
        "            lib.add_book()\n",
        "        elif choice == '3':\n",
        "            lib.remove_book()\n",
        "        else:\n",
        "            print(\"Invalid choice. Please enter 1, 2, or 3.\")\n",
        "\n",
        "if __name__ == \"__main__\":\n",
        "    main()"
      ]
    }
  ]
}